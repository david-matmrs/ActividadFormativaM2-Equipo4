{
  "nbformat": 4,
  "nbformat_minor": 0,
  "metadata": {
    "colab": {
      "provenance": []
    },
    "kernelspec": {
      "name": "python3",
      "display_name": "Python 3"
    },
    "language_info": {
      "name": "python"
    }
  },
  "cells": [
    {
      "cell_type": "markdown",
      "source": [
        "# Actividad Actividad Git-GitHub\n",
        "# Nombres de integrantes",
        "Christian Jaffe Alarcon Acosta (A00832881)",
        "Ruben Dario Castro Terrazas (A00833945)",
        "Juan José Montes Raygoza (A00834630)",
        "Juan David Rivera Rivera (A01026193)",
        "José Andrés Orantes Guillén (A01174130)",
        "David Vargas Leos (A01620315)"
        }
  ]       
}
